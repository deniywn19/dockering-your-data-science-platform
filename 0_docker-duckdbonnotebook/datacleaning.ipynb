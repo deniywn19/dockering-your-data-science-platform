{
 "cells": [
  {
   "cell_type": "markdown",
   "metadata": {},
   "source": [
    "# learning data cleaning with sql and duckdb"
   ]
  },
  {
   "cell_type": "markdown",
   "metadata": {},
   "source": [
    "## import load data\n",
    "   - Click on datacleaning.ipynb to Open notebook.\n",
    "   - Import DuckDB and load the dataset using the following code:"
   ]
  },
  {
   "cell_type": "code",
   "execution_count": 57,
   "metadata": {},
   "outputs": [
    {
     "data": {
      "text/plain": [
       "<duckdb.duckdb.DuckDBPyConnection at 0x7fa528dc7830>"
      ]
     },
     "execution_count": 57,
     "metadata": {},
     "output_type": "execute_result"
    }
   ],
   "source": [
    "import duckdb\n",
    "import pandas as pd\n",
    "\n",
    "# Load the dataset\n",
    "df = pd.read_csv('dataset/Financials.csv')\n",
    "\n",
    "# Create a DuckDB connection and load the dataframe\n",
    "con = duckdb.connect(database=':memory:')\n",
    "con.execute(\"CREATE TABLE financials AS SELECT * FROM df\")"
   ]
  },
  {
   "cell_type": "code",
   "execution_count": 58,
   "metadata": {},
   "outputs": [
    {
     "data": {
      "text/plain": [
       "[('financials',)]"
      ]
     },
     "execution_count": 58,
     "metadata": {},
     "output_type": "execute_result"
    }
   ],
   "source": [
    "# Tampilkan kolom\n",
    "con.execute(\"PRAGMA show_tables\").fetchall()"
   ]
  },
  {
   "cell_type": "code",
   "execution_count": 59,
   "metadata": {},
   "outputs": [
    {
     "data": {
      "text/html": [
       "<div>\n",
       "<style scoped>\n",
       "    .dataframe tbody tr th:only-of-type {\n",
       "        vertical-align: middle;\n",
       "    }\n",
       "\n",
       "    .dataframe tbody tr th {\n",
       "        vertical-align: top;\n",
       "    }\n",
       "\n",
       "    .dataframe thead th {\n",
       "        text-align: right;\n",
       "    }\n",
       "</style>\n",
       "<table border=\"1\" class=\"dataframe\">\n",
       "  <thead>\n",
       "    <tr style=\"text-align: right;\">\n",
       "      <th></th>\n",
       "      <th>Segment</th>\n",
       "      <th>Country</th>\n",
       "      <th>Product</th>\n",
       "      <th>Discount Band</th>\n",
       "      <th>Units Sold</th>\n",
       "      <th>Manufacturing Price</th>\n",
       "      <th>Sale Price</th>\n",
       "      <th>Gross Sales</th>\n",
       "      <th>Discounts</th>\n",
       "      <th>Sales</th>\n",
       "      <th>COGS</th>\n",
       "      <th>Profit</th>\n",
       "      <th>Date</th>\n",
       "      <th>Month Number</th>\n",
       "      <th>Month Name</th>\n",
       "      <th>Year</th>\n",
       "    </tr>\n",
       "  </thead>\n",
       "  <tbody>\n",
       "    <tr>\n",
       "      <th>0</th>\n",
       "      <td>Government</td>\n",
       "      <td>Canada</td>\n",
       "      <td>Carretera</td>\n",
       "      <td>None</td>\n",
       "      <td>$1,618.50</td>\n",
       "      <td>$3.00</td>\n",
       "      <td>$20.00</td>\n",
       "      <td>$32,370.00</td>\n",
       "      <td>$-</td>\n",
       "      <td>$32,370.00</td>\n",
       "      <td>$16,185.00</td>\n",
       "      <td>$16,185.00</td>\n",
       "      <td>01/01/2014</td>\n",
       "      <td>1</td>\n",
       "      <td>January</td>\n",
       "      <td>2014</td>\n",
       "    </tr>\n",
       "  </tbody>\n",
       "</table>\n",
       "</div>"
      ],
      "text/plain": [
       "      Segment Country     Product   Discount Band   Units Sold   \\\n",
       "0  Government  Canada   Carretera            None    $1,618.50    \n",
       "\n",
       "   Manufacturing Price   Sale Price   Gross Sales   Discounts         Sales   \\\n",
       "0                $3.00       $20.00    $32,370.00        $-      $32,370.00    \n",
       "\n",
       "          COGS        Profit         Date  Month Number  Month Name   Year  \n",
       "0   $16,185.00    $16,185.00   01/01/2014             1     January   2014  "
      ]
     },
     "execution_count": 59,
     "metadata": {},
     "output_type": "execute_result"
    }
   ],
   "source": [
    "# Cek nama kolom yang ada di tabel\n",
    "con.execute(\"SELECT * FROM financials LIMIT 1\").df()"
   ]
  },
  {
   "cell_type": "markdown",
   "metadata": {},
   "source": [
    "- tampilkan data"
   ]
  },
  {
   "cell_type": "code",
   "execution_count": 70,
   "metadata": {},
   "outputs": [
    {
     "name": "stdout",
     "output_type": "stream",
     "text": [
      "              column_name column_type null   key default extra\n",
      "0                 Segment     VARCHAR  YES  None    None  None\n",
      "1                 Country     VARCHAR  YES  None    None  None\n",
      "2                Product      VARCHAR  YES  None    None  None\n",
      "3          Discount Band      VARCHAR  YES  None    None  None\n",
      "4             Units Sold      VARCHAR  YES  None    None  None\n",
      "5    Manufacturing Price      VARCHAR  YES  None    None  None\n",
      "6             Sale Price      VARCHAR  YES  None    None  None\n",
      "7            Gross Sales      VARCHAR  YES  None    None  None\n",
      "8              Discounts      VARCHAR  YES  None    None  None\n",
      "9                  Sales      VARCHAR  YES  None    None  None\n",
      "10                  COGS      VARCHAR  YES  None    None  None\n",
      "11                Profit      VARCHAR  YES  None    None  None\n",
      "12                   Date     VARCHAR  YES  None    None  None\n",
      "13           Month Number      BIGINT  YES  None    None  None\n",
      "14            Month Name      VARCHAR  YES  None    None  None\n",
      "15                   Year      BIGINT  YES  None    None  None\n"
     ]
    }
   ],
   "source": [
    "# Cek struktur tabel\n",
    "print(con.execute(\"DESCRIBE financials\").df())"
   ]
  },
  {
   "cell_type": "markdown",
   "metadata": {},
   "source": [
    "* select data"
   ]
  },
  {
   "cell_type": "code",
   "execution_count": 61,
   "metadata": {},
   "outputs": [
    {
     "name": "stdout",
     "output_type": "stream",
     "text": [
      "      Segment\n",
      "0  Government\n",
      "1  Government\n",
      "2   Midmarket\n"
     ]
    }
   ],
   "source": [
    "show_data = con.execute('SELECT Segment FROM financials limit 3').df()\n",
    "print(show_data)"
   ]
  },
  {
   "cell_type": "markdown",
   "metadata": {},
   "source": [
    "* select data 2"
   ]
  },
  {
   "cell_type": "code",
   "execution_count": 66,
   "metadata": {},
   "outputs": [
    {
     "name": "stdout",
     "output_type": "stream",
     "text": [
      "      Segment  Country     Product   Discount Band   Units Sold   \\\n",
      "0  Government   Canada   Carretera            None    $1,618.50    \n",
      "1  Government  Germany   Carretera            None    $1,321.00    \n",
      "2   Midmarket   France   Carretera            None    $2,178.00    \n",
      "3   Midmarket  Germany   Carretera            None      $888.00    \n",
      "4   Midmarket   Mexico   Carretera            None    $2,470.00    \n",
      "\n",
      "   Manufacturing Price   Sale Price   Gross Sales   Discounts         Sales   \\\n",
      "0                $3.00       $20.00    $32,370.00        $-      $32,370.00    \n",
      "1                $3.00       $20.00    $26,420.00        $-      $26,420.00    \n",
      "2                $3.00       $15.00    $32,670.00        $-      $32,670.00    \n",
      "3                $3.00       $15.00    $13,320.00        $-      $13,320.00    \n",
      "4                $3.00       $15.00    $37,050.00        $-      $37,050.00    \n",
      "\n",
      "          COGS        Profit         Date  Month Number  Month Name   Year  \n",
      "0   $16,185.00    $16,185.00   01/01/2014             1     January   2014  \n",
      "1   $13,210.00    $13,210.00   01/01/2014             1     January   2014  \n",
      "2   $21,780.00    $10,890.00   01/06/2014             6        June   2014  \n",
      "3    $8,880.00     $4,440.00   01/06/2014             6        June   2014  \n",
      "4   $24,700.00    $12,350.00   01/06/2014             6        June   2014  \n"
     ]
    }
   ],
   "source": [
    "print(con.execute('SELECT * FROM financials LIMIT 5').df())"
   ]
  },
  {
   "cell_type": "markdown",
   "metadata": {},
   "source": [
    "- tampilkan data"
   ]
  }
 ],
 "metadata": {
  "kernelspec": {
   "display_name": "Python 3 (ipykernel)",
   "language": "python",
   "name": "python3"
  },
  "language_info": {
   "codemirror_mode": {
    "name": "ipython",
    "version": 3
   },
   "file_extension": ".py",
   "mimetype": "text/x-python",
   "name": "python",
   "nbconvert_exporter": "python",
   "pygments_lexer": "ipython3",
   "version": "3.9.21"
  }
 },
 "nbformat": 4,
 "nbformat_minor": 4
}
